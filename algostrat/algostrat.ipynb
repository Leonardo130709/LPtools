{
 "cells": [
  {
   "cell_type": "code",
   "execution_count": 32,
   "id": "d304be25",
   "metadata": {},
   "outputs": [],
   "source": [
    "import numpy as np\n",
    "import pandas as pd\n",
    "from collections import namedtuple"
   ]
  },
  {
   "cell_type": "code",
   "execution_count": 2,
   "id": "7b2e37f4",
   "metadata": {},
   "outputs": [],
   "source": [
    "i = pd.read_excel('I.xlsx')\n",
    "rb = pd.read_excel('./RB(main).xlsx')"
   ]
  },
  {
   "cell_type": "code",
   "execution_count": 10,
   "id": "7315939d",
   "metadata": {},
   "outputs": [],
   "source": [
    "i_tr = i.head(1000).copy()\n",
    "rb_tr = rb.head(1000).copy()"
   ]
  },
  {
   "cell_type": "code",
   "execution_count": 11,
   "id": "d81d1235",
   "metadata": {},
   "outputs": [],
   "source": [
    "def rsi(price, period=28):\n",
    "    diff = price.diff().dropna()\n",
    "    rs = (diff>0).rolling(period, min_periods=1).mean() / (diff<0).rolling(period, min_periods=1).mean()\n",
    "    rsi = lambda rs : 100*(1 - 1 / (1+rs))\n",
    "    return rsi(rs).dropna().reindex_like(price, method='pad')"
   ]
  },
  {
   "cell_type": "code",
   "execution_count": 12,
   "id": "284090a6",
   "metadata": {},
   "outputs": [],
   "source": [
    "def preproc(data, period=28):\n",
    "    data.index = pd.to_datetime(data.date)\n",
    "    data['rsi_1m'] = rsi(data.open, period=period)\n",
    "    data['rsi_1h'] = rsi(data.open.resample('1h').mean().reindex_like(data.open, 'pad'), period=period)\n",
    "    return data.dropna()"
   ]
  },
  {
   "cell_type": "code",
   "execution_count": 13,
   "id": "f5a4486c",
   "metadata": {},
   "outputs": [],
   "source": [
    "i_tr = preproc(i_tr)\n",
    "rb_tr = preproc(rb_tr)"
   ]
  },
  {
   "cell_type": "code",
   "execution_count": 15,
   "id": "05bc6b95",
   "metadata": {},
   "outputs": [
    {
     "data": {
      "text/plain": [
       "<AxesSubplot:xlabel='date'>"
      ]
     },
     "execution_count": 15,
     "metadata": {},
     "output_type": "execute_result"
    },
    {
     "data": {
      "image/png": "[encoded data removed]",
      "text/plain": [
       "<Figure size 432x288 with 1 Axes>"
      ]
     },
     "metadata": {
      "needs_background": "light"
     },
     "output_type": "display_data"
    }
   ],
   "source": [
    "(i_tr.rsi_1m - rb_tr.rsi_1m).dropna().plot()"
   ]
  },
  {
   "cell_type": "code",
   "execution_count": 93,
   "id": "8810ece5",
   "metadata": {},
   "outputs": [],
   "source": [
    "class Strategy:\n",
    "    \n",
    "    def __init__(self, params=None):\n",
    "        self._params = params\n",
    "        self.cash = 0\n",
    "        self.amounts = np.array([0.,0.])\n",
    "            \n",
    "    \n",
    "    def step(self, state):\n",
    "        if self._buy_cond(state):\n",
    "            self.amounts += np.array([1.3, -1])\n",
    "            self.cash += -state.instrument_1*1.3 + state.instrument_2\n",
    "        if self._sell_cond(state):\n",
    "            self.amounts += np.array([-1.3, +1])\n",
    "            self.cash += state.instrument_1*1.3 - state.instrument_2\n",
    "        \n",
    "    def _buy_cond(self, state):\n",
    "        return state.big_bias > 0 and state.big_bias > self._params['min_thr']  \\\n",
    "                and state.big_bias < self._params['max_thr'] and state.small_bias > self._params['min_thr']\n",
    "    \n",
    "    def _sell_cond(self, state):\n",
    "        min_thr = self._params['min_thr']\n",
    "        max_thr = self._params['max_thr']\n",
    "        return state.big_bias<0 and abs(state.big_bias) > min_thr and abs(state.big_bias)< max_thr and \\\n",
    "                state.small_bias<max_thr and abs(state.small_bias) > min_thr\n",
    "    \n",
    "    def finalize(self, state):\n",
    "        self.cash += self.amounts[0]*state.instrument_1 + self.amounts[1]*state.instrument_2\n",
    "        return self.cash\n",
    "    \n",
    "    def get_params(self):\n",
    "        return list(self._params.values())\n",
    "    \n",
    "    def set_params(self, values):\n",
    "        for k, v in zip(self._params.keys(), values):\n",
    "            self._params[k] = v\n",
    "            \n",
    "            \n",
    "    def rollout(self, data):\n",
    "        self.reset()\n",
    "        last_state = None\n",
    "        for state in df.itertuples():\n",
    "            last_state = state\n",
    "            self.step(state)\n",
    "        return self.finalize(last_state)\n",
    "    \n",
    "    \n",
    "    def reset(self):\n",
    "        self.cash = 0\n",
    "        self.amounts = np.array([0.,0.]).astype(float)\n",
    "    \n",
    "        "
   ]
  },
  {
   "cell_type": "code",
   "execution_count": 100,
   "id": "81810886",
   "metadata": {},
   "outputs": [],
   "source": [
    "def compound_df(i1, i2):\n",
    "    df = pd.DataFrame()\n",
    "    df['instrument_1'] = i1.open\n",
    "    df['instrument_2'] = i2.open\n",
    "    df['big_bias'] = i1.rsi_1h - i2.rsi_1h\n",
    "    df['small_bias'] = i1.rsi_1m - i2.rsi_1m\n",
    "    return df"
   ]
  },
  {
   "cell_type": "code",
   "execution_count": 101,
   "id": "c9162c32",
   "metadata": {},
   "outputs": [],
   "source": [
    "df = compound_df(i_tr, rb_tr)"
   ]
  },
  {
   "cell_type": "code",
   "execution_count": 102,
   "id": "5051571d",
   "metadata": {},
   "outputs": [],
   "source": [
    "from scipy.optimize import differential_evolution"
   ]
  },
  {
   "cell_type": "code",
   "execution_count": 103,
   "id": "756a742d",
   "metadata": {},
   "outputs": [],
   "source": [
    "df = compound_df(i_tr, rb_tr)\n",
    "def load_and_run(x):\n",
    "    s = Strategy({'min_thr': 7, 'max_thr': 200})\n",
    "    s.set_params(x)\n",
    "    return s.rollout(df)"
   ]
  },
  {
   "cell_type": "code",
   "execution_count": 106,
   "id": "5e5667d5",
   "metadata": {},
   "outputs": [
    {
     "data": {
      "text/plain": [
       "     fun: -753.1999999998661\n",
       " message: 'Optimization terminated successfully.'\n",
       "    nfev: 693\n",
       "     nit: 22\n",
       " success: True\n",
       "       x: array([  0.88512673, 106.79910996])"
      ]
     },
     "execution_count": 106,
     "metadata": {},
     "output_type": "execute_result"
    }
   ],
   "source": [
    "differential_evolution(load_and_run, bounds=[(0,200), (0,200)])"
   ]
  }
 ],
 "metadata": {
  "kernelspec": {
   "display_name": "Python 3 (ipykernel)",
   "language": "python",
   "name": "python3"
  },
  "language_info": {
   "codemirror_mode": {
    "name": "ipython",
    "version": 3
   },
   "file_extension": ".py",
   "mimetype": "text/x-python",
   "name": "python",
   "nbconvert_exporter": "python",
   "pygments_lexer": "ipython3",
   "version": "3.9.7"
  }
 },
 "nbformat": 4,
 "nbformat_minor": 5
}
