{
 "cells": [
  {
   "cell_type": "markdown",
   "id": "eb636814",
   "metadata": {},
   "source": [
    "https://arxiv.org/pdf/2110.01368.pdf\n",
    "\n",
    "https://arxiv.org/pdf/1911.03380.pdf\n",
    "\n",
    "https://deliverypdf.ssrn.com/delivery.php?ID=773124118097097119026017080102079065057081049043000029071005117069008065110098087085056017039010001111005112084088095103006007043087058092007068069090091015080092022071021048008071122094090110120127079071113126114121118104123004007070096119111104095125&EXT=pdf&INDEX=TRUE"
   ]
  },
  {
   "cell_type": "markdown",
   "id": "8d327d6c",
   "metadata": {},
   "source": [
    "Let $\\Sigma_t$ denote portfolio of the instruments under our managment\n",
    "$$\\Sigma_t = n_i(t) \\cdot I_i(t),$$\n",
    "where $n_i(t)$ -- position in the instrument $i$, $I_i(t)$ -- its present value\n",
    "\n",
    "$$\\dot\\Sigma(t) = \\dot n_i I_i + n_i \\dot I_i$$\n",
    "\n",
    "So we must implement Instruments' dynamics and portolio strategy to control $n_i$ "
   ]
  },
  {
   "cell_type": "code",
   "execution_count": 1,
   "id": "8541a5b4",
   "metadata": {},
   "outputs": [],
   "source": [
    "import numpy as np\n",
    "import pandas as pd\n",
    "from LPtools.utils import Adapter, Runner\n",
    "from LPtools.clients import Client\n",
    "from LPtools.instruments import UniPool, Bond, Portfolio, Position, Cash, Perpetual\n",
    "from LPtools.instruments import Holder, PerpetHedger"
   ]
  },
  {
   "cell_type": "code",
   "execution_count": 2,
   "id": "c42f73e3",
   "metadata": {},
   "outputs": [],
   "source": [
    "zcurve = pd.read_csv('zcyc_rates.csv', index_col=0, parse_dates=True, infer_datetime_format=True, na_filter=False)\n",
    "\n",
    "adapter = Adapter(pool_id=\"0x88e6a0c2ddd26feeb64f039a2c41296fcb3f5640\",\n",
    "                  symbol=\"ETHUSDT\",\n",
    "                  zcurve=zcurve)\n",
    "\n",
    "#response = adapter(300)"
   ]
  },
  {
   "cell_type": "code",
   "execution_count": 3,
   "id": "4dccccc9",
   "metadata": {},
   "outputs": [],
   "source": [
    "#response.to_csv('saved_response.csv')"
   ]
  },
  {
   "cell_type": "code",
   "execution_count": 4,
   "id": "72c83878",
   "metadata": {},
   "outputs": [],
   "source": [
    "response = pd.read_csv('saved_response.csv', index_col=0, infer_datetime_format=True)\n",
    "init_state = response.iloc[0]"
   ]
  },
  {
   "cell_type": "markdown",
   "id": "56250bc4",
   "metadata": {},
   "source": [
    "1. Hodl"
   ]
  },
  {
   "cell_type": "code",
   "execution_count": 5,
   "id": "5150325d",
   "metadata": {},
   "outputs": [],
   "source": [
    "perpetual = Position(tag='perpet', instrument=Perpetual())\n",
    "bond = Position(tag='bond', instrument=Bond(init_state))\n",
    "\n",
    "positions = [perpetual, bond]\n",
    "balancer = Holder(positions, initial_amounts=[1 / init_state.token0Price, -1])\n",
    "portfolio_hodl = Portfolio(balancer, positions=positions)"
   ]
  },
  {
   "cell_type": "markdown",
   "id": "ab64c939",
   "metadata": {},
   "source": [
    "2. Passive pool"
   ]
  },
  {
   "cell_type": "code",
   "execution_count": 6,
   "id": "0bb1366e",
   "metadata": {},
   "outputs": [],
   "source": [
    "\n",
    "pool = Position(tag='pool', instrument=UniPool(init_state , price_lower=2000, price_upper=5000, fees=.005))\n",
    "bond = Position(tag='bond', instrument=Bond(init_state))\n",
    "\n",
    "\n",
    "positions = [pool, bond]\n",
    "balancer = Holder(positions, initial_amounts=[1,-1])\n",
    "portfolio_pooler = Portfolio(balancer, positions=positions)"
   ]
  },
  {
   "cell_type": "markdown",
   "id": "cebf9b5a",
   "metadata": {},
   "source": [
    "3. Hedging"
   ]
  },
  {
   "cell_type": "code",
   "execution_count": 38,
   "id": "297d7716",
   "metadata": {},
   "outputs": [],
   "source": [
    "pool = Position(tag='pool', instrument=UniPool(init_state , price_lower=2000, price_upper=5000, fees=.005))\n",
    "bond = Position(tag='bond', instrument=Bond(init_state))\n",
    "perpetual = Position(tag='perpet', instrument=Perpetual())\n",
    "\n",
    "positions = [pool, perpetual, bond]\n",
    "\n",
    "delta =  pool.instrument.L / init_state.token0Price**.5\n",
    "balancer = PerpetHedger(\n",
    "    positions,\n",
    "    initial_amounts=[1, - delta, delta * init_state.token0Price - 1 ],\n",
    "    rebalancing_interval= 5\n",
    ")\n",
    "portfolio_perpet = Portfolio(balancer, positions)"
   ]
  },
  {
   "cell_type": "code",
   "execution_count": 32,
   "id": "d7ee71b4",
   "metadata": {},
   "outputs": [
    {
     "data": {
      "text/plain": [
       "1.029570636022149"
      ]
     },
     "execution_count": 32,
     "metadata": {},
     "output_type": "execute_result"
    }
   ],
   "source": [
    "bond.instrument.value(init_state)"
   ]
  },
  {
   "cell_type": "code",
   "execution_count": 33,
   "id": "e89c8d6d",
   "metadata": {},
   "outputs": [
    {
     "data": {
      "text/plain": [
       "1.0"
      ]
     },
     "execution_count": 33,
     "metadata": {},
     "output_type": "execute_result"
    }
   ],
   "source": [
    "pool.instrument.value(init_state)"
   ]
  },
  {
   "cell_type": "code",
   "execution_count": 34,
   "id": "8f2b3cae",
   "metadata": {},
   "outputs": [
    {
     "data": {
      "text/plain": [
       "3496.203173435439"
      ]
     },
     "execution_count": 34,
     "metadata": {},
     "output_type": "execute_result"
    }
   ],
   "source": [
    "perpetual.instrument.value(init_state)"
   ]
  },
  {
   "cell_type": "code",
   "execution_count": 40,
   "id": "43444197",
   "metadata": {},
   "outputs": [
    {
     "data": {
      "text/plain": [
       "[1.0, -0.5000697222222222, 0.5]"
      ]
     },
     "execution_count": 40,
     "metadata": {},
     "output_type": "execute_result"
    }
   ],
   "source": [
    "portfolio_perpet.step(init_state)\n",
    "list(map(lambda p: p.value(init_state), [pool, bond, perpetual]))"
   ]
  },
  {
   "cell_type": "code",
   "execution_count": 25,
   "id": "6050e929",
   "metadata": {},
   "outputs": [],
   "source": [
    "runner = Runner(response,[portfolio_hodl, portfolio_pooler, portfolio_perpet])\n",
    "runner.run()"
   ]
  },
  {
   "cell_type": "code",
   "execution_count": 26,
   "id": "f7603755",
   "metadata": {},
   "outputs": [
    {
     "name": "stdout",
     "output_type": "stream",
     "text": [
      "pool_last_val 1.1513300420579644\n",
      "perpet_last_val 0.612231038932429\n",
      "bond_last_val 7199.176249873161\n",
      "total_value 7140.790229963204\n",
      "discounted_value 3625.1291242235366\n"
     ]
    },
    {
     "data": {
      "text/html": [
       "<div>\n",
       "<style scoped>\n",
       "    .dataframe tbody tr th:only-of-type {\n",
       "        vertical-align: middle;\n",
       "    }\n",
       "\n",
       "    .dataframe tbody tr th {\n",
       "        vertical-align: top;\n",
       "    }\n",
       "\n",
       "    .dataframe thead th {\n",
       "        text-align: right;\n",
       "    }\n",
       "</style>\n",
       "<table border=\"1\" class=\"dataframe\">\n",
       "  <thead>\n",
       "    <tr style=\"text-align: right;\">\n",
       "      <th></th>\n",
       "      <th>pool</th>\n",
       "      <th>perpet</th>\n",
       "      <th>bond</th>\n",
       "      <th>payments</th>\n",
       "      <th>transaction_costs</th>\n",
       "    </tr>\n",
       "  </thead>\n",
       "  <tbody>\n",
       "    <tr>\n",
       "      <th>0</th>\n",
       "      <td>1.000013</td>\n",
       "      <td>3496.292879</td>\n",
       "      <td>1.000000</td>\n",
       "      <td>0.000000e+00</td>\n",
       "      <td>-6.997406e+01</td>\n",
       "    </tr>\n",
       "    <tr>\n",
       "      <th>1</th>\n",
       "      <td>0.998211</td>\n",
       "      <td>3483.701459</td>\n",
       "      <td>1.000139</td>\n",
       "      <td>1.406735e-06</td>\n",
       "      <td>0.000000e+00</td>\n",
       "    </tr>\n",
       "    <tr>\n",
       "      <th>2</th>\n",
       "      <td>1.054052</td>\n",
       "      <td>3884.370431</td>\n",
       "      <td>1.000279</td>\n",
       "      <td>-8.511378e-05</td>\n",
       "      <td>0.000000e+00</td>\n",
       "    </tr>\n",
       "    <tr>\n",
       "      <th>3</th>\n",
       "      <td>1.057450</td>\n",
       "      <td>3909.453752</td>\n",
       "      <td>1.000418</td>\n",
       "      <td>9.635210e-07</td>\n",
       "      <td>0.000000e+00</td>\n",
       "    </tr>\n",
       "    <tr>\n",
       "      <th>4</th>\n",
       "      <td>1.065387</td>\n",
       "      <td>3968.366567</td>\n",
       "      <td>1.000558</td>\n",
       "      <td>-1.234656e-05</td>\n",
       "      <td>0.000000e+00</td>\n",
       "    </tr>\n",
       "    <tr>\n",
       "      <th>...</th>\n",
       "      <td>...</td>\n",
       "      <td>...</td>\n",
       "      <td>...</td>\n",
       "      <td>...</td>\n",
       "      <td>...</td>\n",
       "    </tr>\n",
       "    <tr>\n",
       "      <th>204</th>\n",
       "      <td>1.075175</td>\n",
       "      <td>4041.612472</td>\n",
       "      <td>1.028853</td>\n",
       "      <td>4.048076e-05</td>\n",
       "      <td>0.000000e+00</td>\n",
       "    </tr>\n",
       "    <tr>\n",
       "      <th>205</th>\n",
       "      <td>1.082566</td>\n",
       "      <td>4097.371402</td>\n",
       "      <td>1.028997</td>\n",
       "      <td>-2.200563e-06</td>\n",
       "      <td>-5.770671e-10</td>\n",
       "    </tr>\n",
       "    <tr>\n",
       "      <th>206</th>\n",
       "      <td>1.108335</td>\n",
       "      <td>4294.761309</td>\n",
       "      <td>1.029140</td>\n",
       "      <td>-7.882936e-06</td>\n",
       "      <td>0.000000e+00</td>\n",
       "    </tr>\n",
       "    <tr>\n",
       "      <th>207</th>\n",
       "      <td>1.127702</td>\n",
       "      <td>4446.166582</td>\n",
       "      <td>1.029284</td>\n",
       "      <td>-5.927545e-06</td>\n",
       "      <td>0.000000e+00</td>\n",
       "    </tr>\n",
       "    <tr>\n",
       "      <th>208</th>\n",
       "      <td>1.151330</td>\n",
       "      <td>4634.430105</td>\n",
       "      <td>1.029427</td>\n",
       "      <td>-9.826331e-06</td>\n",
       "      <td>0.000000e+00</td>\n",
       "    </tr>\n",
       "  </tbody>\n",
       "</table>\n",
       "<p>209 rows × 5 columns</p>\n",
       "</div>"
      ],
      "text/plain": [
       "         pool       perpet      bond      payments  transaction_costs\n",
       "0    1.000013  3496.292879  1.000000  0.000000e+00      -6.997406e+01\n",
       "1    0.998211  3483.701459  1.000139  1.406735e-06       0.000000e+00\n",
       "2    1.054052  3884.370431  1.000279 -8.511378e-05       0.000000e+00\n",
       "3    1.057450  3909.453752  1.000418  9.635210e-07       0.000000e+00\n",
       "4    1.065387  3968.366567  1.000558 -1.234656e-05       0.000000e+00\n",
       "..        ...          ...       ...           ...                ...\n",
       "204  1.075175  4041.612472  1.028853  4.048076e-05       0.000000e+00\n",
       "205  1.082566  4097.371402  1.028997 -2.200563e-06      -5.770671e-10\n",
       "206  1.108335  4294.761309  1.029140 -7.882936e-06       0.000000e+00\n",
       "207  1.127702  4446.166582  1.029284 -5.927545e-06       0.000000e+00\n",
       "208  1.151330  4634.430105  1.029427 -9.826331e-06       0.000000e+00\n",
       "\n",
       "[209 rows x 5 columns]"
      ]
     },
     "execution_count": 26,
     "metadata": {},
     "output_type": "execute_result"
    }
   ],
   "source": [
    "runner.summary(2)"
   ]
  },
  {
   "cell_type": "code",
   "execution_count": null,
   "id": "97b22239",
   "metadata": {},
   "outputs": [],
   "source": []
  }
 ],
 "metadata": {
  "kernelspec": {
   "display_name": "Python 3 (ipykernel)",
   "language": "python",
   "name": "python3"
  },
  "language_info": {
   "codemirror_mode": {
    "name": "ipython",
    "version": 3
   },
   "file_extension": ".py",
   "mimetype": "text/x-python",
   "name": "python",
   "nbconvert_exporter": "python",
   "pygments_lexer": "ipython3",
   "version": "3.9.7"
  }
 },
 "nbformat": 4,
 "nbformat_minor": 5
}
