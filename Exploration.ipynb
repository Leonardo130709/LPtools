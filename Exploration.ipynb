{
 "cells": [
  {
   "cell_type": "markdown",
   "id": "8d327d6c",
   "metadata": {},
   "source": [
    "Let $\\Sigma_t$ denote portfolio of the instruments under our managment\n",
    "$$\\Sigma_t = n_i(t) \\cdot I_i(t),$$\n",
    "where $n_i(t)$ -- position in the instrument $i$, $I_i(t)$ -- its present value\n",
    "\n",
    "$$\\dot\\Sigma(t) = \\dot n_i I_i + n_i \\dot I_i$$\n",
    "\n",
    "So we must implement Instruments' dynamics and portolio strategy to control $n_i$ "
   ]
  },
  {
   "cell_type": "code",
   "execution_count": 1,
   "id": "8541a5b4",
   "metadata": {},
   "outputs": [],
   "source": [
    "import numpy as np\n",
    "import pandas as pd\n",
    "from LPtools.utils import Adapter, Runner\n",
    "from LPtools.clients import Client\n",
    "from LPtools.instruments import UniPool, Bond, Portfolio, Position, Cash, Perpetual\n",
    "from LPtools.instruments import Holder, PerpetHedger\n",
    "from LPtools.solver import Solver"
   ]
  },
  {
   "cell_type": "code",
   "execution_count": 2,
   "id": "c42f73e3",
   "metadata": {},
   "outputs": [],
   "source": [
    "zcurve = pd.read_csv('zcyc_rates.csv', index_col=0, parse_dates=True, infer_datetime_format=True, na_filter=False)\n",
    "\n",
    "adapter = Adapter(pool_id=\"0x88e6a0c2ddd26feeb64f039a2c41296fcb3f5640\",\n",
    "                  symbol=\"ETHUSDT\",\n",
    "                  zcurve=zcurve)\n",
    "\n",
    "#response = adapter(300)"
   ]
  },
  {
   "cell_type": "code",
   "execution_count": 3,
   "id": "4dccccc9",
   "metadata": {},
   "outputs": [],
   "source": [
    "#response.to_csv('saved_response.csv')"
   ]
  },
  {
   "cell_type": "code",
   "execution_count": 4,
   "id": "72c83878",
   "metadata": {},
   "outputs": [],
   "source": [
    "response = pd.read_csv('saved_response.csv', index_col=0, infer_datetime_format=True)\n",
    "init_state = response.iloc[0]"
   ]
  },
  {
   "cell_type": "code",
   "execution_count": 6,
   "id": "48917677",
   "metadata": {},
   "outputs": [],
   "source": [
    "solver = Solver(response)\n",
    "results = solver.solve(t = 20,\n",
    "             delta1=.05, q1=.98,\n",
    "             delta2=.1, q2=.98,\n",
    "             verbose=True\n",
    "            )\n",
    "pl, pu = map(lambda x: x*init_state.token0Price, results.x)"
   ]
  },
  {
   "cell_type": "markdown",
   "id": "56250bc4",
   "metadata": {},
   "source": [
    "1. Hodl"
   ]
  },
  {
   "cell_type": "code",
   "execution_count": 7,
   "id": "5150325d",
   "metadata": {},
   "outputs": [],
   "source": [
    "perpetual = Position(tag='perpet', instrument=Perpetual())\n",
    "bond = Position(tag='bond', instrument=Bond(init_state))\n",
    "\n",
    "positions = [perpetual, bond]\n",
    "balancer = Holder(positions, initial_amounts=[1 / init_state.token0Price, -1])\n",
    "portfolio_hodl = Portfolio(balancer, positions=positions)"
   ]
  },
  {
   "cell_type": "markdown",
   "id": "ab64c939",
   "metadata": {},
   "source": [
    "2. Passive pool"
   ]
  },
  {
   "cell_type": "code",
   "execution_count": 8,
   "id": "0bb1366e",
   "metadata": {},
   "outputs": [],
   "source": [
    "\n",
    "pool = Position(tag='pool', instrument=UniPool(init_state , price_lower=pl, price_upper=pu, fees=.005))\n",
    "bond = Position(tag='bond', instrument=Bond(init_state))\n",
    "\n",
    "\n",
    "positions = [pool, bond]\n",
    "balancer = Holder(positions, initial_amounts=[1,-1])\n",
    "portfolio_pooler = Portfolio(balancer, positions=positions)"
   ]
  },
  {
   "cell_type": "markdown",
   "id": "cebf9b5a",
   "metadata": {},
   "source": [
    "3. Hedging"
   ]
  },
  {
   "cell_type": "code",
   "execution_count": 9,
   "id": "297d7716",
   "metadata": {},
   "outputs": [],
   "source": [
    "pool = Position(tag='pool', instrument=UniPool(init_state , price_lower=pl, price_upper=pu, fees=.005))\n",
    "bond = Position(tag='bond', instrument=Bond(init_state))\n",
    "perpetual = Position(tag='perpet', instrument=Perpetual())\n",
    "\n",
    "positions = [pool, perpetual, bond]\n",
    "\n",
    "delta =  pool.instrument.L / init_state.token0Price**.5\n",
    "balancer = PerpetHedger(\n",
    "    positions,\n",
    "    initial_amounts=[1, - delta, delta * init_state.token0Price - 1 ],\n",
    "    rebalancing_interval= 2\n",
    ")\n",
    "portfolio_perpet = Portfolio(balancer, positions)"
   ]
  },
  {
   "cell_type": "code",
   "execution_count": 10,
   "id": "6050e929",
   "metadata": {},
   "outputs": [],
   "source": [
    "runner = Runner(response,[portfolio_hodl, portfolio_pooler, portfolio_perpet])\n",
    "runner.run()"
   ]
  },
  {
   "cell_type": "code",
   "execution_count": 11,
   "id": "a22732ce",
   "metadata": {},
   "outputs": [
    {
     "data": {
      "text/html": [
       "<div>\n",
       "<style scoped>\n",
       "    .dataframe tbody tr th:only-of-type {\n",
       "        vertical-align: middle;\n",
       "    }\n",
       "\n",
       "    .dataframe tbody tr th {\n",
       "        vertical-align: top;\n",
       "    }\n",
       "\n",
       "    .dataframe thead th {\n",
       "        text-align: right;\n",
       "    }\n",
       "</style>\n",
       "<table border=\"1\" class=\"dataframe\">\n",
       "  <thead>\n",
       "    <tr style=\"text-align: right;\">\n",
       "      <th></th>\n",
       "      <th>total_value</th>\n",
       "      <th>discounted_value</th>\n",
       "    </tr>\n",
       "  </thead>\n",
       "  <tbody>\n",
       "    <tr>\n",
       "      <th>portfolio 0</th>\n",
       "      <td>0.285268</td>\n",
       "      <td>0.274328</td>\n",
       "    </tr>\n",
       "    <tr>\n",
       "      <th>portfolio 1</th>\n",
       "      <td>0.387027</td>\n",
       "      <td>0.367990</td>\n",
       "    </tr>\n",
       "    <tr>\n",
       "      <th>portfolio 2</th>\n",
       "      <td>0.420783</td>\n",
       "      <td>0.397622</td>\n",
       "    </tr>\n",
       "  </tbody>\n",
       "</table>\n",
       "</div>"
      ],
      "text/plain": [
       "0            total_value  discounted_value\n",
       "portfolio 0     0.285268          0.274328\n",
       "portfolio 1     0.387027          0.367990\n",
       "portfolio 2     0.420783          0.397622"
      ]
     },
     "execution_count": 11,
     "metadata": {},
     "output_type": "execute_result"
    }
   ],
   "source": [
    "runner.summary"
   ]
  },
  {
   "cell_type": "code",
   "execution_count": 12,
   "id": "25d2b67b",
   "metadata": {},
   "outputs": [
    {
     "data": {
      "text/html": [
       "<div>\n",
       "<style scoped>\n",
       "    .dataframe tbody tr th:only-of-type {\n",
       "        vertical-align: middle;\n",
       "    }\n",
       "\n",
       "    .dataframe tbody tr th {\n",
       "        vertical-align: top;\n",
       "    }\n",
       "\n",
       "    .dataframe thead th {\n",
       "        text-align: right;\n",
       "    }\n",
       "</style>\n",
       "<table border=\"1\" class=\"dataframe\">\n",
       "  <thead>\n",
       "    <tr style=\"text-align: right;\">\n",
       "      <th></th>\n",
       "      <th>pool_value</th>\n",
       "      <th>pool_amount</th>\n",
       "      <th>perpet_value</th>\n",
       "      <th>perpet_amount</th>\n",
       "      <th>bond_value</th>\n",
       "      <th>bond_amount</th>\n",
       "      <th>payments</th>\n",
       "      <th>transaction_costs</th>\n",
       "    </tr>\n",
       "  </thead>\n",
       "  <tbody>\n",
       "    <tr>\n",
       "      <th>0</th>\n",
       "      <td>1.000013</td>\n",
       "      <td>0</td>\n",
       "      <td>3496.292879</td>\n",
       "      <td>0.000000</td>\n",
       "      <td>1.000000</td>\n",
       "      <td>0.0</td>\n",
       "      <td>0.000000e+00</td>\n",
       "      <td>-1.500143e-02</td>\n",
       "    </tr>\n",
       "    <tr>\n",
       "      <th>1</th>\n",
       "      <td>0.998211</td>\n",
       "      <td>1</td>\n",
       "      <td>3483.701459</td>\n",
       "      <td>-0.000143</td>\n",
       "      <td>1.000139</td>\n",
       "      <td>-0.5</td>\n",
       "      <td>-1.406753e-06</td>\n",
       "      <td>-2.563793e-09</td>\n",
       "    </tr>\n",
       "    <tr>\n",
       "      <th>2</th>\n",
       "      <td>1.054052</td>\n",
       "      <td>1</td>\n",
       "      <td>3884.370431</td>\n",
       "      <td>-0.000143</td>\n",
       "      <td>1.000279</td>\n",
       "      <td>-0.5</td>\n",
       "      <td>8.526746e-05</td>\n",
       "      <td>0.000000e+00</td>\n",
       "    </tr>\n",
       "    <tr>\n",
       "      <th>3</th>\n",
       "      <td>1.057450</td>\n",
       "      <td>1</td>\n",
       "      <td>3909.453752</td>\n",
       "      <td>-0.000143</td>\n",
       "      <td>1.000418</td>\n",
       "      <td>-0.5</td>\n",
       "      <td>-9.652607e-07</td>\n",
       "      <td>-8.026025e-08</td>\n",
       "    </tr>\n",
       "    <tr>\n",
       "      <th>4</th>\n",
       "      <td>1.065387</td>\n",
       "      <td>1</td>\n",
       "      <td>3968.366567</td>\n",
       "      <td>-0.000135</td>\n",
       "      <td>1.000558</td>\n",
       "      <td>-0.5</td>\n",
       "      <td>1.167594e-05</td>\n",
       "      <td>0.000000e+00</td>\n",
       "    </tr>\n",
       "    <tr>\n",
       "      <th>...</th>\n",
       "      <td>...</td>\n",
       "      <td>...</td>\n",
       "      <td>...</td>\n",
       "      <td>...</td>\n",
       "      <td>...</td>\n",
       "      <td>...</td>\n",
       "      <td>...</td>\n",
       "      <td>...</td>\n",
       "    </tr>\n",
       "    <tr>\n",
       "      <th>204</th>\n",
       "      <td>1.075175</td>\n",
       "      <td>1</td>\n",
       "      <td>4041.612472</td>\n",
       "      <td>-0.000126</td>\n",
       "      <td>1.028853</td>\n",
       "      <td>-0.5</td>\n",
       "      <td>-3.851266e-05</td>\n",
       "      <td>0.000000e+00</td>\n",
       "    </tr>\n",
       "    <tr>\n",
       "      <th>205</th>\n",
       "      <td>1.082566</td>\n",
       "      <td>1</td>\n",
       "      <td>4097.371402</td>\n",
       "      <td>-0.000126</td>\n",
       "      <td>1.028997</td>\n",
       "      <td>-0.5</td>\n",
       "      <td>2.093576e-06</td>\n",
       "      <td>-6.367797e-08</td>\n",
       "    </tr>\n",
       "    <tr>\n",
       "      <th>206</th>\n",
       "      <td>1.108335</td>\n",
       "      <td>1</td>\n",
       "      <td>4294.761309</td>\n",
       "      <td>-0.000132</td>\n",
       "      <td>1.029140</td>\n",
       "      <td>-0.5</td>\n",
       "      <td>7.882936e-06</td>\n",
       "      <td>0.000000e+00</td>\n",
       "    </tr>\n",
       "    <tr>\n",
       "      <th>207</th>\n",
       "      <td>1.127702</td>\n",
       "      <td>1</td>\n",
       "      <td>4446.166582</td>\n",
       "      <td>-0.000132</td>\n",
       "      <td>1.029284</td>\n",
       "      <td>-0.5</td>\n",
       "      <td>5.927545e-06</td>\n",
       "      <td>-5.287535e-08</td>\n",
       "    </tr>\n",
       "    <tr>\n",
       "      <th>208</th>\n",
       "      <td>1.151330</td>\n",
       "      <td>1</td>\n",
       "      <td>4634.430105</td>\n",
       "      <td>-0.000127</td>\n",
       "      <td>1.029427</td>\n",
       "      <td>-0.5</td>\n",
       "      <td>9.433030e-06</td>\n",
       "      <td>0.000000e+00</td>\n",
       "    </tr>\n",
       "  </tbody>\n",
       "</table>\n",
       "<p>209 rows × 8 columns</p>\n",
       "</div>"
      ],
      "text/plain": [
       "     pool_value  pool_amount  perpet_value  perpet_amount  bond_value  \\\n",
       "0      1.000013            0   3496.292879       0.000000    1.000000   \n",
       "1      0.998211            1   3483.701459      -0.000143    1.000139   \n",
       "2      1.054052            1   3884.370431      -0.000143    1.000279   \n",
       "3      1.057450            1   3909.453752      -0.000143    1.000418   \n",
       "4      1.065387            1   3968.366567      -0.000135    1.000558   \n",
       "..          ...          ...           ...            ...         ...   \n",
       "204    1.075175            1   4041.612472      -0.000126    1.028853   \n",
       "205    1.082566            1   4097.371402      -0.000126    1.028997   \n",
       "206    1.108335            1   4294.761309      -0.000132    1.029140   \n",
       "207    1.127702            1   4446.166582      -0.000132    1.029284   \n",
       "208    1.151330            1   4634.430105      -0.000127    1.029427   \n",
       "\n",
       "     bond_amount      payments  transaction_costs  \n",
       "0            0.0  0.000000e+00      -1.500143e-02  \n",
       "1           -0.5 -1.406753e-06      -2.563793e-09  \n",
       "2           -0.5  8.526746e-05       0.000000e+00  \n",
       "3           -0.5 -9.652607e-07      -8.026025e-08  \n",
       "4           -0.5  1.167594e-05       0.000000e+00  \n",
       "..           ...           ...                ...  \n",
       "204         -0.5 -3.851266e-05       0.000000e+00  \n",
       "205         -0.5  2.093576e-06      -6.367797e-08  \n",
       "206         -0.5  7.882936e-06       0.000000e+00  \n",
       "207         -0.5  5.927545e-06      -5.287535e-08  \n",
       "208         -0.5  9.433030e-06       0.000000e+00  \n",
       "\n",
       "[209 rows x 8 columns]"
      ]
     },
     "execution_count": 12,
     "metadata": {},
     "output_type": "execute_result"
    }
   ],
   "source": [
    "runner.logs(2)"
   ]
  },
  {
   "cell_type": "code",
   "execution_count": null,
   "id": "3c31e306",
   "metadata": {},
   "outputs": [],
   "source": []
  }
 ],
 "metadata": {
  "kernelspec": {
   "display_name": "Python 3 (ipykernel)",
   "language": "python",
   "name": "python3"
  },
  "language_info": {
   "codemirror_mode": {
    "name": "ipython",
    "version": 3
   },
   "file_extension": ".py",
   "mimetype": "text/x-python",
   "name": "python",
   "nbconvert_exporter": "python",
   "pygments_lexer": "ipython3",
   "version": "3.9.7"
  }
 },
 "nbformat": 4,
 "nbformat_minor": 5
}
