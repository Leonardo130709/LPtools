{
 "cells": [
  {
   "cell_type": "markdown",
   "id": "eb636814",
   "metadata": {},
   "source": [
    "https://arxiv.org/pdf/2110.01368.pdf\n",
    "\n",
    "https://arxiv.org/pdf/1911.03380.pdf\n",
    "\n",
    "https://deliverypdf.ssrn.com/delivery.php?ID=773124118097097119026017080102079065057081049043000029071005117069008065110098087085056017039010001111005112084088095103006007043087058092007068069090091015080092022071021048008071122094090110120127079071113126114121118104123004007070096119111104095125&EXT=pdf&INDEX=TRUE"
   ]
  },
  {
   "cell_type": "markdown",
   "id": "8d327d6c",
   "metadata": {},
   "source": [
    "Let $\\Sigma_t$ denote portfolio of the instruments under our managment\n",
    "$$\\Sigma_t = n_i(t) \\cdot I_i(t),$$\n",
    "where $n_i(t)$ -- position in the instrument $i$, $I_i(t)$ -- its present value\n",
    "\n",
    "$$\\dot\\Sigma(t) = \\dot n_i I_i + n_i \\dot I_i$$\n",
    "\n",
    "So we must implement Instruments' dynamics and portolio strategy to control $n_i$ "
   ]
  },
  {
   "cell_type": "code",
   "execution_count": 1,
   "id": "72c83878",
   "metadata": {},
   "outputs": [],
   "source": [
    "import numpy as np\n",
    "import pandas as pd\n",
    "from LPtools.utils import Adapter\n",
    "from LPtools.clients import Client\n",
    "from LPtools.instruments import UniPool, Bond, Portfolio, Position, Cash, Holder"
   ]
  },
  {
   "cell_type": "code",
   "execution_count": 2,
   "id": "0179553a",
   "metadata": {
    "scrolled": false
   },
   "outputs": [],
   "source": [
    "zcurve = pd.read_csv('zcyc_rates.csv', index_col=0, parse_dates=True, infer_datetime_format=True, na_filter=False)\n",
    "\n",
    "adapter = Adapter(pool_id=\"0x88e6a0c2ddd26feeb64f039a2c41296fcb3f5640\",\n",
    "                  symbol=\"ETHUSDT\",\n",
    "                  zcurve=zcurve)\n",
    "\n",
    "response = adapter(100)"
   ]
  },
  {
   "cell_type": "code",
   "execution_count": 2,
   "id": "0ab47841",
   "metadata": {},
   "outputs": [],
   "source": [
    "response = pd.read_csv('saved_response.csv', index_col=0, infer_datetime_format=True)"
   ]
  },
  {
   "cell_type": "code",
   "execution_count": 3,
   "id": "5cb4a3f7",
   "metadata": {},
   "outputs": [
    {
     "name": "stdout",
     "output_type": "stream",
     "text": [
      "(100, 14)\n"
     ]
    },
    {
     "data": {
      "text/html": [
       "<div>\n",
       "<style scoped>\n",
       "    .dataframe tbody tr th:only-of-type {\n",
       "        vertical-align: middle;\n",
       "    }\n",
       "\n",
       "    .dataframe tbody tr th {\n",
       "        vertical-align: top;\n",
       "    }\n",
       "\n",
       "    .dataframe thead th {\n",
       "        text-align: right;\n",
       "    }\n",
       "</style>\n",
       "<table border=\"1\" class=\"dataframe\">\n",
       "  <thead>\n",
       "    <tr style=\"text-align: right;\">\n",
       "      <th></th>\n",
       "      <th>fundingRate</th>\n",
       "      <th>Open</th>\n",
       "      <th>Volume</th>\n",
       "      <th>date</th>\n",
       "      <th>feesUSD</th>\n",
       "      <th>liquidity</th>\n",
       "      <th>sqrtPrice</th>\n",
       "      <th>token0Price</th>\n",
       "      <th>token1Price</th>\n",
       "      <th>tvlUSD</th>\n",
       "      <th>volumeUSD</th>\n",
       "      <th>relative_price</th>\n",
       "      <th>mark</th>\n",
       "      <th>risk_free_rate</th>\n",
       "    </tr>\n",
       "  </thead>\n",
       "  <tbody>\n",
       "    <tr>\n",
       "      <th>2021-08-23</th>\n",
       "      <td>0.001587</td>\n",
       "      <td>3241.29</td>\n",
       "      <td>2430852.991</td>\n",
       "      <td>1.629677e+09</td>\n",
       "      <td>162011.187199</td>\n",
       "      <td>1.321197e+19</td>\n",
       "      <td>1.374390e+33</td>\n",
       "      <td>3323.068541</td>\n",
       "      <td>0.000301</td>\n",
       "      <td>1.472374e+08</td>\n",
       "      <td>3.240224e+08</td>\n",
       "      <td>1.104278e+07</td>\n",
       "      <td>3241.190000</td>\n",
       "      <td>6.42</td>\n",
       "    </tr>\n",
       "    <tr>\n",
       "      <th>2021-08-24</th>\n",
       "      <td>0.001189</td>\n",
       "      <td>3323.00</td>\n",
       "      <td>2520587.128</td>\n",
       "      <td>1.629763e+09</td>\n",
       "      <td>196604.907005</td>\n",
       "      <td>1.275388e+19</td>\n",
       "      <td>1.406044e+33</td>\n",
       "      <td>3175.128922</td>\n",
       "      <td>0.000315</td>\n",
       "      <td>1.457254e+08</td>\n",
       "      <td>3.932098e+08</td>\n",
       "      <td>1.008144e+07</td>\n",
       "      <td>3323.010000</td>\n",
       "      <td>6.43</td>\n",
       "    </tr>\n",
       "    <tr>\n",
       "      <th>2021-08-25</th>\n",
       "      <td>0.000465</td>\n",
       "      <td>3173.99</td>\n",
       "      <td>2405504.816</td>\n",
       "      <td>1.629850e+09</td>\n",
       "      <td>194457.274305</td>\n",
       "      <td>1.816751e+19</td>\n",
       "      <td>1.394881e+33</td>\n",
       "      <td>3226.152108</td>\n",
       "      <td>0.000310</td>\n",
       "      <td>1.522418e+08</td>\n",
       "      <td>3.889145e+08</td>\n",
       "      <td>1.040806e+07</td>\n",
       "      <td>3173.980000</td>\n",
       "      <td>6.39</td>\n",
       "    </tr>\n",
       "    <tr>\n",
       "      <th>2021-08-26</th>\n",
       "      <td>0.000300</td>\n",
       "      <td>3227.90</td>\n",
       "      <td>2360877.641</td>\n",
       "      <td>1.629936e+09</td>\n",
       "      <td>191172.517182</td>\n",
       "      <td>1.370694e+19</td>\n",
       "      <td>1.423204e+33</td>\n",
       "      <td>3099.022574</td>\n",
       "      <td>0.000323</td>\n",
       "      <td>1.449578e+08</td>\n",
       "      <td>3.823450e+08</td>\n",
       "      <td>9.603941e+06</td>\n",
       "      <td>3228.210000</td>\n",
       "      <td>6.45</td>\n",
       "    </tr>\n",
       "    <tr>\n",
       "      <th>2021-08-27</th>\n",
       "      <td>0.000300</td>\n",
       "      <td>3093.81</td>\n",
       "      <td>2227370.879</td>\n",
       "      <td>1.630022e+09</td>\n",
       "      <td>172471.174069</td>\n",
       "      <td>2.433403e+19</td>\n",
       "      <td>1.385700e+33</td>\n",
       "      <td>3269.043498</td>\n",
       "      <td>0.000306</td>\n",
       "      <td>1.518801e+08</td>\n",
       "      <td>3.449423e+08</td>\n",
       "      <td>1.068665e+07</td>\n",
       "      <td>3092.993934</td>\n",
       "      <td>6.44</td>\n",
       "    </tr>\n",
       "  </tbody>\n",
       "</table>\n",
       "</div>"
      ],
      "text/plain": [
       "            fundingRate     Open       Volume          date        feesUSD  \\\n",
       "2021-08-23     0.001587  3241.29  2430852.991  1.629677e+09  162011.187199   \n",
       "2021-08-24     0.001189  3323.00  2520587.128  1.629763e+09  196604.907005   \n",
       "2021-08-25     0.000465  3173.99  2405504.816  1.629850e+09  194457.274305   \n",
       "2021-08-26     0.000300  3227.90  2360877.641  1.629936e+09  191172.517182   \n",
       "2021-08-27     0.000300  3093.81  2227370.879  1.630022e+09  172471.174069   \n",
       "\n",
       "               liquidity     sqrtPrice  token0Price  token1Price  \\\n",
       "2021-08-23  1.321197e+19  1.374390e+33  3323.068541     0.000301   \n",
       "2021-08-24  1.275388e+19  1.406044e+33  3175.128922     0.000315   \n",
       "2021-08-25  1.816751e+19  1.394881e+33  3226.152108     0.000310   \n",
       "2021-08-26  1.370694e+19  1.423204e+33  3099.022574     0.000323   \n",
       "2021-08-27  2.433403e+19  1.385700e+33  3269.043498     0.000306   \n",
       "\n",
       "                  tvlUSD     volumeUSD  relative_price         mark  \\\n",
       "2021-08-23  1.472374e+08  3.240224e+08    1.104278e+07  3241.190000   \n",
       "2021-08-24  1.457254e+08  3.932098e+08    1.008144e+07  3323.010000   \n",
       "2021-08-25  1.522418e+08  3.889145e+08    1.040806e+07  3173.980000   \n",
       "2021-08-26  1.449578e+08  3.823450e+08    9.603941e+06  3228.210000   \n",
       "2021-08-27  1.518801e+08  3.449423e+08    1.068665e+07  3092.993934   \n",
       "\n",
       "            risk_free_rate  \n",
       "2021-08-23            6.42  \n",
       "2021-08-24            6.43  \n",
       "2021-08-25            6.39  \n",
       "2021-08-26            6.45  \n",
       "2021-08-27            6.44  "
      ]
     },
     "execution_count": 3,
     "metadata": {},
     "output_type": "execute_result"
    }
   ],
   "source": [
    "runner = response.itertuples()\n",
    "print(response.shape)\n",
    "response.head()"
   ]
  },
  {
   "cell_type": "code",
   "execution_count": 4,
   "id": "151b32b4",
   "metadata": {},
   "outputs": [],
   "source": [
    "init_state = next(runner)"
   ]
  },
  {
   "cell_type": "code",
   "execution_count": 5,
   "id": "d8563fe1",
   "metadata": {},
   "outputs": [
    {
     "data": {
      "text/plain": [
       "8.673619270845231"
      ]
     },
     "execution_count": 5,
     "metadata": {},
     "output_type": "execute_result"
    }
   ],
   "source": [
    "L = UniPool.liquidity_from_mv(init_state, 1000)\n",
    "L # initial liquidity"
   ]
  },
  {
   "cell_type": "code",
   "execution_count": 6,
   "id": "45a04537",
   "metadata": {},
   "outputs": [],
   "source": [
    "cash = Cash(0)\n",
    "\n",
    "pool = Position(tag='pool', instrument=UniPool(L , price_lower=2000, price_upper=5000, fees=.005), last_value=1000)\n",
    "bond = Position(tag='bond', instrument=Bond(init_state))\n",
    "\n",
    "cash += pool.rebalance(1) + bond.rebalance(-1000) # create positions, suffer transaction costs\n",
    "\n",
    "positions = [pool, bond]\n",
    "balancer = Holder(positions)\n",
    "portfolio = Portfolio(balancer, cash=cash, positions=positions)"
   ]
  },
  {
   "cell_type": "code",
   "execution_count": 12,
   "id": "5f0a3de9",
   "metadata": {},
   "outputs": [],
   "source": [
    "portfolio.rollout(runner)"
   ]
  },
  {
   "cell_type": "code",
   "execution_count": 13,
   "id": "0dcd6086",
   "metadata": {
    "scrolled": false
   },
   "outputs": [
    {
     "name": "stdout",
     "output_type": "stream",
     "text": [
      "pool_last_val = 224.57040143079385\n",
      "bond_last_val = -1017.8101686636718\n",
      "total_value = -813.2397672328589\n"
     ]
    },
    {
     "data": {
      "text/html": [
       "<div>\n",
       "<style scoped>\n",
       "    .dataframe tbody tr th:only-of-type {\n",
       "        vertical-align: middle;\n",
       "    }\n",
       "\n",
       "    .dataframe tbody tr th {\n",
       "        vertical-align: top;\n",
       "    }\n",
       "\n",
       "    .dataframe thead th {\n",
       "        text-align: right;\n",
       "    }\n",
       "</style>\n",
       "<table border=\"1\" class=\"dataframe\">\n",
       "  <thead>\n",
       "    <tr style=\"text-align: right;\">\n",
       "      <th></th>\n",
       "      <th>pool</th>\n",
       "      <th>bond</th>\n",
       "      <th>payments</th>\n",
       "      <th>transaction_costs</th>\n",
       "    </tr>\n",
       "  </thead>\n",
       "  <tbody>\n",
       "    <tr>\n",
       "      <th>0</th>\n",
       "      <td>200.118622</td>\n",
       "      <td>1.000000</td>\n",
       "      <td>1.337065e-13</td>\n",
       "      <td>0</td>\n",
       "    </tr>\n",
       "    <tr>\n",
       "      <th>1</th>\n",
       "      <td>201.682572</td>\n",
       "      <td>1.000178</td>\n",
       "      <td>9.283872e-14</td>\n",
       "      <td>0</td>\n",
       "    </tr>\n",
       "    <tr>\n",
       "      <th>2</th>\n",
       "      <td>197.668086</td>\n",
       "      <td>1.000357</td>\n",
       "      <td>1.209721e-13</td>\n",
       "      <td>0</td>\n",
       "    </tr>\n",
       "    <tr>\n",
       "      <th>3</th>\n",
       "      <td>202.949538</td>\n",
       "      <td>1.000535</td>\n",
       "      <td>6.147562e-14</td>\n",
       "      <td>0</td>\n",
       "    </tr>\n",
       "    <tr>\n",
       "      <th>4</th>\n",
       "      <td>202.234062</td>\n",
       "      <td>1.000714</td>\n",
       "      <td>4.086641e-14</td>\n",
       "      <td>0</td>\n",
       "    </tr>\n",
       "    <tr>\n",
       "      <th>...</th>\n",
       "      <td>...</td>\n",
       "      <td>...</td>\n",
       "      <td>...</td>\n",
       "      <td>...</td>\n",
       "    </tr>\n",
       "    <tr>\n",
       "      <th>94</th>\n",
       "      <td>219.173371</td>\n",
       "      <td>1.016903</td>\n",
       "      <td>2.854898e-13</td>\n",
       "      <td>0</td>\n",
       "    </tr>\n",
       "    <tr>\n",
       "      <th>95</th>\n",
       "      <td>219.915147</td>\n",
       "      <td>1.017084</td>\n",
       "      <td>1.251463e-13</td>\n",
       "      <td>0</td>\n",
       "    </tr>\n",
       "    <tr>\n",
       "      <th>96</th>\n",
       "      <td>222.134862</td>\n",
       "      <td>1.017266</td>\n",
       "      <td>1.358600e-13</td>\n",
       "      <td>0</td>\n",
       "    </tr>\n",
       "    <tr>\n",
       "      <th>97</th>\n",
       "      <td>223.428204</td>\n",
       "      <td>1.017447</td>\n",
       "      <td>1.052120e-13</td>\n",
       "      <td>0</td>\n",
       "    </tr>\n",
       "    <tr>\n",
       "      <th>98</th>\n",
       "      <td>224.570401</td>\n",
       "      <td>1.017629</td>\n",
       "      <td>2.958527e-13</td>\n",
       "      <td>0</td>\n",
       "    </tr>\n",
       "  </tbody>\n",
       "</table>\n",
       "<p>99 rows × 4 columns</p>\n",
       "</div>"
      ],
      "text/plain": [
       "          pool      bond      payments  transaction_costs\n",
       "0   200.118622  1.000000  1.337065e-13                  0\n",
       "1   201.682572  1.000178  9.283872e-14                  0\n",
       "2   197.668086  1.000357  1.209721e-13                  0\n",
       "3   202.949538  1.000535  6.147562e-14                  0\n",
       "4   202.234062  1.000714  4.086641e-14                  0\n",
       "..         ...       ...           ...                ...\n",
       "94  219.173371  1.016903  2.854898e-13                  0\n",
       "95  219.915147  1.017084  1.251463e-13                  0\n",
       "96  222.134862  1.017266  1.358600e-13                  0\n",
       "97  223.428204  1.017447  1.052120e-13                  0\n",
       "98  224.570401  1.017629  2.958527e-13                  0\n",
       "\n",
       "[99 rows x 4 columns]"
      ]
     },
     "execution_count": 13,
     "metadata": {},
     "output_type": "execute_result"
    }
   ],
   "source": [
    "portfolio.summary"
   ]
  },
  {
   "cell_type": "code",
   "execution_count": 19,
   "id": "31b62f75",
   "metadata": {},
   "outputs": [
    {
     "data": {
      "text/plain": [
       "[<matplotlib.lines.Line2D at 0x7ff50ee9c850>]"
      ]
     },
     "execution_count": 19,
     "metadata": {},
     "output_type": "execute_result"
    },
    {
     "data": {
      "image/png": "[encoded data removed]",
      "text/plain": [
       "<Figure size 432x288 with 1 Axes>"
      ]
     },
     "metadata": {
      "needs_background": "light"
     },
     "output_type": "display_data"
    }
   ],
   "source": [
    "import matplotlib.pyplot as plt\n",
    "plt.plot(cash.payments[:-1])"
   ]
  },
  {
   "cell_type": "code",
   "execution_count": 20,
   "id": "17679955",
   "metadata": {},
   "outputs": [
    {
     "data": {
      "text/plain": [
       "1.8998416792207254e-11"
      ]
     },
     "execution_count": 20,
     "metadata": {},
     "output_type": "execute_result"
    }
   ],
   "source": [
    "np.sum(cash.payments[:-1])"
   ]
  }
 ],
 "metadata": {
  "kernelspec": {
   "display_name": "Python 3 (ipykernel)",
   "language": "python",
   "name": "python3"
  },
  "language_info": {
   "codemirror_mode": {
    "name": "ipython",
    "version": 3
   },
   "file_extension": ".py",
   "mimetype": "text/x-python",
   "name": "python",
   "nbconvert_exporter": "python",
   "pygments_lexer": "ipython3",
   "version": "3.9.7"
  }
 },
 "nbformat": 4,
 "nbformat_minor": 5
}
